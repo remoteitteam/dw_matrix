{
  "nbformat": 4,
  "nbformat_minor": 0,
  "metadata": {
    "colab": {
      "name": "day3_simple_model.ipynb",
      "provenance": [],
      "mount_file_id": "1qpt_av-0TIWrtYFX89oznyAeD5EAU3rh",
      "authorship_tag": "ABX9TyNrzXbdIf6or7s08DNIFTLH",
      "include_colab_link": true
    },
    "kernelspec": {
      "name": "python3",
      "display_name": "Python 3"
    }
  },
  "cells": [
    {
      "cell_type": "markdown",
      "metadata": {
        "id": "view-in-github",
        "colab_type": "text"
      },
      "source": [
        "<a href=\"https://colab.research.google.com/github/remoteitteam/dw_matrix/blob/master/day3_simple_model.ipynb\" target=\"_parent\"><img src=\"https://colab.research.google.com/assets/colab-badge.svg\" alt=\"Open In Colab\"/></a>"
      ]
    },
    {
      "cell_type": "code",
      "metadata": {
        "id": "8ovLyZJQT0UF",
        "colab_type": "code",
        "colab": {
          "base_uri": "https://localhost:8080/",
          "height": 442
        },
        "outputId": "1afc2ae8-0633-46b0-b56f-e320d3562c6d"
      },
      "source": [
        "!pip install --upgrade tables\n",
        "!pip install eli5"
      ],
      "execution_count": 2,
      "outputs": [
        {
          "output_type": "stream",
          "text": [
            "Collecting tables\n",
            "\u001b[?25l  Downloading https://files.pythonhosted.org/packages/ed/c3/8fd9e3bb21872f9d69eb93b3014c86479864cca94e625fd03713ccacec80/tables-3.6.1-cp36-cp36m-manylinux1_x86_64.whl (4.3MB)\n",
            "\u001b[K     |████████████████████████████████| 4.3MB 2.8MB/s \n",
            "\u001b[?25hRequirement already satisfied, skipping upgrade: numexpr>=2.6.2 in /usr/local/lib/python3.6/dist-packages (from tables) (2.7.1)\n",
            "Requirement already satisfied, skipping upgrade: numpy>=1.9.3 in /usr/local/lib/python3.6/dist-packages (from tables) (1.17.5)\n",
            "Installing collected packages: tables\n",
            "  Found existing installation: tables 3.4.4\n",
            "    Uninstalling tables-3.4.4:\n",
            "      Successfully uninstalled tables-3.4.4\n",
            "Successfully installed tables-3.6.1\n",
            "Collecting eli5\n",
            "\u001b[?25l  Downloading https://files.pythonhosted.org/packages/97/2f/c85c7d8f8548e460829971785347e14e45fa5c6617da374711dec8cb38cc/eli5-0.10.1-py2.py3-none-any.whl (105kB)\n",
            "\u001b[K     |████████████████████████████████| 112kB 2.9MB/s \n",
            "\u001b[?25hRequirement already satisfied: scipy in /usr/local/lib/python3.6/dist-packages (from eli5) (1.4.1)\n",
            "Requirement already satisfied: numpy>=1.9.0 in /usr/local/lib/python3.6/dist-packages (from eli5) (1.17.5)\n",
            "Requirement already satisfied: jinja2 in /usr/local/lib/python3.6/dist-packages (from eli5) (2.11.1)\n",
            "Requirement already satisfied: six in /usr/local/lib/python3.6/dist-packages (from eli5) (1.12.0)\n",
            "Requirement already satisfied: attrs>16.0.0 in /usr/local/lib/python3.6/dist-packages (from eli5) (19.3.0)\n",
            "Requirement already satisfied: scikit-learn>=0.18 in /usr/local/lib/python3.6/dist-packages (from eli5) (0.22.1)\n",
            "Requirement already satisfied: graphviz in /usr/local/lib/python3.6/dist-packages (from eli5) (0.10.1)\n",
            "Requirement already satisfied: tabulate>=0.7.7 in /usr/local/lib/python3.6/dist-packages (from eli5) (0.8.6)\n",
            "Requirement already satisfied: MarkupSafe>=0.23 in /usr/local/lib/python3.6/dist-packages (from jinja2->eli5) (1.1.1)\n",
            "Requirement already satisfied: joblib>=0.11 in /usr/local/lib/python3.6/dist-packages (from scikit-learn>=0.18->eli5) (0.14.1)\n",
            "Installing collected packages: eli5\n",
            "Successfully installed eli5-0.10.1\n"
          ],
          "name": "stdout"
        }
      ]
    },
    {
      "cell_type": "code",
      "metadata": {
        "id": "U-Qq8VArTAgx",
        "colab_type": "code",
        "colab": {}
      },
      "source": [
        "import pandas as pd\n",
        "import numpy as np\n",
        "from sklearn.dummy import DummyRegressor\n",
        "from sklearn.tree import DecisionTreeRegressor\n",
        "\n",
        "from sklearn.metrics import mean_absolute_error as mae\n",
        "from sklearn.model_selection import cross_val_score\n",
        "\n",
        "import eli5\n",
        "from eli5.sklearn import PermutationImportance"
      ],
      "execution_count": 0,
      "outputs": []
    },
    {
      "cell_type": "markdown",
      "metadata": {
        "id": "psLYysnUUFuc",
        "colab_type": "text"
      },
      "source": [
        "Wczytywanie danych"
      ]
    },
    {
      "cell_type": "code",
      "metadata": {
        "id": "J11_RGNVUL64",
        "colab_type": "code",
        "colab": {
          "base_uri": "https://localhost:8080/",
          "height": 34
        },
        "outputId": "b671c92f-0d88-4583-9ec7-f5955941a2a5"
      },
      "source": [
        "cd '/content/drive/My Drive/Colab Notebooks/dw_matrix/matrix_two/dw_matrix_car'"
      ],
      "execution_count": 6,
      "outputs": [
        {
          "output_type": "stream",
          "text": [
            "/content/drive/My Drive/Colab Notebooks/dw_matrix/matrix_two/dw_matrix_car\n"
          ],
          "name": "stdout"
        }
      ]
    },
    {
      "cell_type": "code",
      "metadata": {
        "id": "LfiMwqQDUZzG",
        "colab_type": "code",
        "colab": {
          "base_uri": "https://localhost:8080/",
          "height": 34
        },
        "outputId": "61cbac3d-9f57-468a-e338-07d3a7b53a7f"
      },
      "source": [
        "df = pd.read_hdf('data/car.h5')\n",
        "df.shape"
      ],
      "execution_count": 7,
      "outputs": [
        {
          "output_type": "execute_result",
          "data": {
            "text/plain": [
              "(106494, 155)"
            ]
          },
          "metadata": {
            "tags": []
          },
          "execution_count": 7
        }
      ]
    },
    {
      "cell_type": "code",
      "metadata": {
        "id": "iaGJrj_RUcOP",
        "colab_type": "code",
        "colab": {
          "base_uri": "https://localhost:8080/",
          "height": 187
        },
        "outputId": "15f68085-b293-4c7f-bf3a-98b7e39d0a0a"
      },
      "source": [
        "df.columns"
      ],
      "execution_count": 8,
      "outputs": [
        {
          "output_type": "execute_result",
          "data": {
            "text/plain": [
              "Index(['breadcrumb', 'created_at', 'price_currency', 'price_details',\n",
              "       'price_value', 'seller_address', 'seller_name', 'seller_type',\n",
              "       'feature_czujniki-parkowania-przednie',\n",
              "       'feature_poduszka-powietrzna-chroniąca-kolana',\n",
              "       ...\n",
              "       'param_pearl', 'param_stan', 'param_wersja', 'param_emisja-co2',\n",
              "       'param_body-type', 'param_matowy', 'param_bezwypadkowy',\n",
              "       'param_akryl-(niemetalizowany)', 'param_monthly-payment-value',\n",
              "       'car_id'],\n",
              "      dtype='object', length=155)"
            ]
          },
          "metadata": {
            "tags": []
          },
          "execution_count": 8
        }
      ]
    },
    {
      "cell_type": "markdown",
      "metadata": {
        "id": "Xra6QDq-U3b2",
        "colab_type": "text"
      },
      "source": [
        "Dummy Model"
      ]
    },
    {
      "cell_type": "code",
      "metadata": {
        "id": "pUTrQcU2U5ez",
        "colab_type": "code",
        "colab": {
          "base_uri": "https://localhost:8080/",
          "height": 34
        },
        "outputId": "1919973f-01f3-427b-9343-8a0bfd7036af"
      },
      "source": [
        "df.select_dtypes(np.number).columns"
      ],
      "execution_count": 9,
      "outputs": [
        {
          "output_type": "execute_result",
          "data": {
            "text/plain": [
              "Index(['price_value', 'car_id'], dtype='object')"
            ]
          },
          "metadata": {
            "tags": []
          },
          "execution_count": 9
        }
      ]
    },
    {
      "cell_type": "code",
      "metadata": {
        "id": "hOYpRuHPU9WO",
        "colab_type": "code",
        "colab": {
          "base_uri": "https://localhost:8080/",
          "height": 34
        },
        "outputId": "4c76e3f1-f117-4485-e7ea-204feb733811"
      },
      "source": [
        "feats = ['car_id']\n",
        "x = df[feats].values\n",
        "y = df['price_value'].values\n",
        "\n",
        "model = DummyRegressor()\n",
        "model.fit(x, y)\n",
        "y_pred = model.predict(x)\n",
        "\n",
        "mae(y, y_pred)#miara jakosci"
      ],
      "execution_count": 14,
      "outputs": [
        {
          "output_type": "execute_result",
          "data": {
            "text/plain": [
              "39465.934630440985"
            ]
          },
          "metadata": {
            "tags": []
          },
          "execution_count": 14
        }
      ]
    },
    {
      "cell_type": "code",
      "metadata": {
        "id": "rShd3q3hV1BH",
        "colab_type": "code",
        "colab": {
          "base_uri": "https://localhost:8080/",
          "height": 34
        },
        "outputId": "2676dc98-b101-4eb9-dc76-447fe0391995"
      },
      "source": [
        "[x for x in df.columns if 'price' in x]"
      ],
      "execution_count": 15,
      "outputs": [
        {
          "output_type": "execute_result",
          "data": {
            "text/plain": [
              "['price_currency', 'price_details', 'price_value']"
            ]
          },
          "metadata": {
            "tags": []
          },
          "execution_count": 15
        }
      ]
    },
    {
      "cell_type": "code",
      "metadata": {
        "id": "vX_rNweLV8sg",
        "colab_type": "code",
        "colab": {
          "base_uri": "https://localhost:8080/",
          "height": 68
        },
        "outputId": "8a2d4a99-1c4e-42bd-d1af-ef062ab6a7c9"
      },
      "source": [
        "df['price_currency'].value_counts()"
      ],
      "execution_count": 16,
      "outputs": [
        {
          "output_type": "execute_result",
          "data": {
            "text/plain": [
              "PLN    106290\n",
              "EUR       204\n",
              "Name: price_currency, dtype: int64"
            ]
          },
          "metadata": {
            "tags": []
          },
          "execution_count": 16
        }
      ]
    },
    {
      "cell_type": "code",
      "metadata": {
        "id": "RZe2L3B6WFHH",
        "colab_type": "code",
        "colab": {
          "base_uri": "https://localhost:8080/",
          "height": 68
        },
        "outputId": "b08c21b7-9afd-4f8a-c746-7c7da1b7a80a"
      },
      "source": [
        "df['price_currency'].value_counts(normalize=True)*100"
      ],
      "execution_count": 17,
      "outputs": [
        {
          "output_type": "execute_result",
          "data": {
            "text/plain": [
              "PLN    99.80844\n",
              "EUR     0.19156\n",
              "Name: price_currency, dtype: float64"
            ]
          },
          "metadata": {
            "tags": []
          },
          "execution_count": 17
        }
      ]
    },
    {
      "cell_type": "code",
      "metadata": {
        "id": "379xXgzsWC1N",
        "colab_type": "code",
        "colab": {
          "base_uri": "https://localhost:8080/",
          "height": 34
        },
        "outputId": "44bf2a0b-dc7a-4b77-a792-ecb644673781"
      },
      "source": [
        "#usuwanie ogloszen z EURO\n",
        "df = df[ df['price_currency'] != 'EUR']\n",
        "df.shape"
      ],
      "execution_count": 19,
      "outputs": [
        {
          "output_type": "execute_result",
          "data": {
            "text/plain": [
              "(106290, 155)"
            ]
          },
          "metadata": {
            "tags": []
          },
          "execution_count": 19
        }
      ]
    },
    {
      "cell_type": "markdown",
      "metadata": {
        "id": "b3XFrBHkWkgN",
        "colab_type": "text"
      },
      "source": [
        "Features"
      ]
    },
    {
      "cell_type": "code",
      "metadata": {
        "id": "XtqbNzHfWmKf",
        "colab_type": "code",
        "colab": {
          "base_uri": "https://localhost:8080/",
          "height": 678
        },
        "outputId": "36ee0517-dcc3-4497-d388-cea581ba4db8"
      },
      "source": [
        "df.head()"
      ],
      "execution_count": 20,
      "outputs": [
        {
          "output_type": "execute_result",
          "data": {
            "text/html": [
              "<div>\n",
              "<style scoped>\n",
              "    .dataframe tbody tr th:only-of-type {\n",
              "        vertical-align: middle;\n",
              "    }\n",
              "\n",
              "    .dataframe tbody tr th {\n",
              "        vertical-align: top;\n",
              "    }\n",
              "\n",
              "    .dataframe thead th {\n",
              "        text-align: right;\n",
              "    }\n",
              "</style>\n",
              "<table border=\"1\" class=\"dataframe\">\n",
              "  <thead>\n",
              "    <tr style=\"text-align: right;\">\n",
              "      <th></th>\n",
              "      <th>breadcrumb</th>\n",
              "      <th>created_at</th>\n",
              "      <th>price_currency</th>\n",
              "      <th>price_details</th>\n",
              "      <th>price_value</th>\n",
              "      <th>seller_address</th>\n",
              "      <th>seller_name</th>\n",
              "      <th>seller_type</th>\n",
              "      <th>feature_czujniki-parkowania-przednie</th>\n",
              "      <th>feature_poduszka-powietrzna-chroniąca-kolana</th>\n",
              "      <th>feature_kurtyny-powietrzne</th>\n",
              "      <th>feature_klimatyzacja-dwustrefowa</th>\n",
              "      <th>feature_światła-led</th>\n",
              "      <th>feature_czujnik-zmierzchu</th>\n",
              "      <th>feature_elektrycznie-ustawiane-lusterka</th>\n",
              "      <th>feature_asr-(kontrola-trakcji)</th>\n",
              "      <th>feature_poduszka-powietrzna-kierowcy</th>\n",
              "      <th>feature_cd</th>\n",
              "      <th>feature_elektryczne-szyby-przednie</th>\n",
              "      <th>feature_poduszka-powietrzna-pasażera</th>\n",
              "      <th>feature_system-start-stop</th>\n",
              "      <th>feature_światła-do-jazdy-dziennej</th>\n",
              "      <th>feature_komputer-pokładowy</th>\n",
              "      <th>feature_elektryczne-szyby-tylne</th>\n",
              "      <th>feature_klimatyzacja-manualna</th>\n",
              "      <th>feature_tapicerka-welurowa</th>\n",
              "      <th>feature_czujnik-deszczu</th>\n",
              "      <th>feature_światła-przeciwmgielne</th>\n",
              "      <th>feature_ogrzewanie-postojowe</th>\n",
              "      <th>feature_radio-niefabryczne</th>\n",
              "      <th>feature_regulowane-zawieszenie</th>\n",
              "      <th>feature_ogranicznik-prędkości</th>\n",
              "      <th>feature_zmieniarka-cd</th>\n",
              "      <th>feature_szyberdach</th>\n",
              "      <th>feature_isofix</th>\n",
              "      <th>feature_asystent-pasa-ruchu</th>\n",
              "      <th>feature_alufelgi</th>\n",
              "      <th>feature_bluetooth</th>\n",
              "      <th>feature_nawigacja-gps</th>\n",
              "      <th>feature_asystent-parkowania</th>\n",
              "      <th>...</th>\n",
              "      <th>param_particle-filter</th>\n",
              "      <th>param_zarejestrowany-w-polsce</th>\n",
              "      <th>param_oferta-od</th>\n",
              "      <th>param_moc</th>\n",
              "      <th>param_make</th>\n",
              "      <th>param_kraj-pochodzenia</th>\n",
              "      <th>param_engine-power</th>\n",
              "      <th>param_year</th>\n",
              "      <th>param_serwisowany-w-aso</th>\n",
              "      <th>param_rodzaj-paliwa</th>\n",
              "      <th>param_możliwość-finansowania</th>\n",
              "      <th>param_registered-in-poland</th>\n",
              "      <th>param_transmission</th>\n",
              "      <th>param_miesięczna-rata</th>\n",
              "      <th>param_kod-silnika</th>\n",
              "      <th>param_version</th>\n",
              "      <th>param_opłata-początkowa</th>\n",
              "      <th>param_model-pojazdu</th>\n",
              "      <th>param_pojemność-skokowa</th>\n",
              "      <th>param_kierownica-po-prawej-(anglik)</th>\n",
              "      <th>param_fuel-type</th>\n",
              "      <th>param_vat-free</th>\n",
              "      <th>param_acrylic</th>\n",
              "      <th>param_damaged</th>\n",
              "      <th>param_door-count</th>\n",
              "      <th>param_tuning</th>\n",
              "      <th>param_filtr-cząstek-stałych</th>\n",
              "      <th>param_nr-of-seats</th>\n",
              "      <th>param_kolor</th>\n",
              "      <th>param_engine-capacity</th>\n",
              "      <th>param_pearl</th>\n",
              "      <th>param_stan</th>\n",
              "      <th>param_wersja</th>\n",
              "      <th>param_emisja-co2</th>\n",
              "      <th>param_body-type</th>\n",
              "      <th>param_matowy</th>\n",
              "      <th>param_bezwypadkowy</th>\n",
              "      <th>param_akryl-(niemetalizowany)</th>\n",
              "      <th>param_monthly-payment-value</th>\n",
              "      <th>car_id</th>\n",
              "    </tr>\n",
              "  </thead>\n",
              "  <tbody>\n",
              "    <tr>\n",
              "      <th>0</th>\n",
              "      <td>[Osobowe, Dacia, Logan, Dacia Logan II (2012-)]</td>\n",
              "      <td>13:23, 5 marca 2018</td>\n",
              "      <td>PLN</td>\n",
              "      <td>Cena Brutto</td>\n",
              "      <td>45100.0</td>\n",
              "      <td>Krasne 7A - 36-007 Krasne, rzeszowski, Podkarp...</td>\n",
              "      <td>AUTO SPEKTRUM</td>\n",
              "      <td>Dealer</td>\n",
              "      <td>False</td>\n",
              "      <td>False</td>\n",
              "      <td>False</td>\n",
              "      <td>False</td>\n",
              "      <td>False</td>\n",
              "      <td>False</td>\n",
              "      <td>False</td>\n",
              "      <td>True</td>\n",
              "      <td>False</td>\n",
              "      <td>False</td>\n",
              "      <td>False</td>\n",
              "      <td>False</td>\n",
              "      <td>False</td>\n",
              "      <td>False</td>\n",
              "      <td>True</td>\n",
              "      <td>True</td>\n",
              "      <td>True</td>\n",
              "      <td>False</td>\n",
              "      <td>False</td>\n",
              "      <td>True</td>\n",
              "      <td>False</td>\n",
              "      <td>False</td>\n",
              "      <td>False</td>\n",
              "      <td>False</td>\n",
              "      <td>False</td>\n",
              "      <td>False</td>\n",
              "      <td>False</td>\n",
              "      <td>False</td>\n",
              "      <td>False</td>\n",
              "      <td>True</td>\n",
              "      <td>False</td>\n",
              "      <td>False</td>\n",
              "      <td>...</td>\n",
              "      <td>None</td>\n",
              "      <td>None</td>\n",
              "      <td>Firmy</td>\n",
              "      <td>90 KM</td>\n",
              "      <td>None</td>\n",
              "      <td>None</td>\n",
              "      <td>None</td>\n",
              "      <td>None</td>\n",
              "      <td>None</td>\n",
              "      <td>Benzyna+LPG</td>\n",
              "      <td>None</td>\n",
              "      <td>None</td>\n",
              "      <td>None</td>\n",
              "      <td>None</td>\n",
              "      <td>None</td>\n",
              "      <td>None</td>\n",
              "      <td>None</td>\n",
              "      <td>Logan</td>\n",
              "      <td>898 cm3</td>\n",
              "      <td>None</td>\n",
              "      <td>None</td>\n",
              "      <td>None</td>\n",
              "      <td>None</td>\n",
              "      <td>None</td>\n",
              "      <td>None</td>\n",
              "      <td>None</td>\n",
              "      <td>None</td>\n",
              "      <td>None</td>\n",
              "      <td>Inny kolor</td>\n",
              "      <td>None</td>\n",
              "      <td>None</td>\n",
              "      <td>Nowe</td>\n",
              "      <td>II (2012-)</td>\n",
              "      <td>None</td>\n",
              "      <td>None</td>\n",
              "      <td>None</td>\n",
              "      <td>Tak</td>\n",
              "      <td>None</td>\n",
              "      <td>None</td>\n",
              "      <td>0</td>\n",
              "    </tr>\n",
              "    <tr>\n",
              "      <th>2</th>\n",
              "      <td>[Osobowe, Peugeot, 3008, Peugeot 3008 I (2009-...</td>\n",
              "      <td>15:48, 5 marca 2018</td>\n",
              "      <td>PLN</td>\n",
              "      <td>Cena Brutto, Do negocjacji, Faktura VAT</td>\n",
              "      <td>28000.0</td>\n",
              "      <td>Tomaszów Mazowiecki, tomaszowski, Łódzkie</td>\n",
              "      <td>None</td>\n",
              "      <td>Osoba prywatna</td>\n",
              "      <td>False</td>\n",
              "      <td>False</td>\n",
              "      <td>False</td>\n",
              "      <td>True</td>\n",
              "      <td>False</td>\n",
              "      <td>False</td>\n",
              "      <td>True</td>\n",
              "      <td>True</td>\n",
              "      <td>True</td>\n",
              "      <td>True</td>\n",
              "      <td>True</td>\n",
              "      <td>True</td>\n",
              "      <td>False</td>\n",
              "      <td>False</td>\n",
              "      <td>True</td>\n",
              "      <td>False</td>\n",
              "      <td>False</td>\n",
              "      <td>False</td>\n",
              "      <td>False</td>\n",
              "      <td>False</td>\n",
              "      <td>False</td>\n",
              "      <td>False</td>\n",
              "      <td>False</td>\n",
              "      <td>False</td>\n",
              "      <td>False</td>\n",
              "      <td>False</td>\n",
              "      <td>False</td>\n",
              "      <td>False</td>\n",
              "      <td>True</td>\n",
              "      <td>False</td>\n",
              "      <td>False</td>\n",
              "      <td>False</td>\n",
              "      <td>...</td>\n",
              "      <td>None</td>\n",
              "      <td>Tak</td>\n",
              "      <td>Osoby prywatnej</td>\n",
              "      <td>115 KM</td>\n",
              "      <td>None</td>\n",
              "      <td>Polska</td>\n",
              "      <td>None</td>\n",
              "      <td>None</td>\n",
              "      <td>None</td>\n",
              "      <td>Diesel</td>\n",
              "      <td>None</td>\n",
              "      <td>None</td>\n",
              "      <td>None</td>\n",
              "      <td>None</td>\n",
              "      <td>None</td>\n",
              "      <td>None</td>\n",
              "      <td>None</td>\n",
              "      <td>3008</td>\n",
              "      <td>1 560 cm3</td>\n",
              "      <td>None</td>\n",
              "      <td>None</td>\n",
              "      <td>None</td>\n",
              "      <td>None</td>\n",
              "      <td>None</td>\n",
              "      <td>None</td>\n",
              "      <td>None</td>\n",
              "      <td>None</td>\n",
              "      <td>None</td>\n",
              "      <td>Czarny</td>\n",
              "      <td>None</td>\n",
              "      <td>None</td>\n",
              "      <td>Używane</td>\n",
              "      <td>I (2009-2016)</td>\n",
              "      <td>None</td>\n",
              "      <td>None</td>\n",
              "      <td>None</td>\n",
              "      <td>Tak</td>\n",
              "      <td>None</td>\n",
              "      <td>None</td>\n",
              "      <td>2</td>\n",
              "    </tr>\n",
              "    <tr>\n",
              "      <th>3</th>\n",
              "      <td>[Osobowe, Porsche, Cayenne, Porsche Cayenne II...</td>\n",
              "      <td>06:30, 4 marca 2018</td>\n",
              "      <td>PLN</td>\n",
              "      <td>Cena Netto, Do negocjacji, Faktura VAT</td>\n",
              "      <td>229500.0</td>\n",
              "      <td>Kępińska 24a - 63-640 Bralin, kępiński, Wielko...</td>\n",
              "      <td>P.W. GRIB</td>\n",
              "      <td>Dealer</td>\n",
              "      <td>True</td>\n",
              "      <td>True</td>\n",
              "      <td>True</td>\n",
              "      <td>True</td>\n",
              "      <td>True</td>\n",
              "      <td>True</td>\n",
              "      <td>True</td>\n",
              "      <td>True</td>\n",
              "      <td>True</td>\n",
              "      <td>True</td>\n",
              "      <td>True</td>\n",
              "      <td>True</td>\n",
              "      <td>True</td>\n",
              "      <td>True</td>\n",
              "      <td>True</td>\n",
              "      <td>True</td>\n",
              "      <td>False</td>\n",
              "      <td>False</td>\n",
              "      <td>True</td>\n",
              "      <td>True</td>\n",
              "      <td>True</td>\n",
              "      <td>False</td>\n",
              "      <td>True</td>\n",
              "      <td>True</td>\n",
              "      <td>True</td>\n",
              "      <td>True</td>\n",
              "      <td>True</td>\n",
              "      <td>False</td>\n",
              "      <td>True</td>\n",
              "      <td>True</td>\n",
              "      <td>True</td>\n",
              "      <td>True</td>\n",
              "      <td>...</td>\n",
              "      <td>None</td>\n",
              "      <td>None</td>\n",
              "      <td>Firmy</td>\n",
              "      <td>262 KM</td>\n",
              "      <td>None</td>\n",
              "      <td>Niemcy</td>\n",
              "      <td>None</td>\n",
              "      <td>None</td>\n",
              "      <td>Tak</td>\n",
              "      <td>Diesel</td>\n",
              "      <td>Tak</td>\n",
              "      <td>None</td>\n",
              "      <td>None</td>\n",
              "      <td>None</td>\n",
              "      <td>None</td>\n",
              "      <td>None</td>\n",
              "      <td>None</td>\n",
              "      <td>Cayenne</td>\n",
              "      <td>3 000 cm3</td>\n",
              "      <td>None</td>\n",
              "      <td>None</td>\n",
              "      <td>None</td>\n",
              "      <td>None</td>\n",
              "      <td>None</td>\n",
              "      <td>None</td>\n",
              "      <td>None</td>\n",
              "      <td>None</td>\n",
              "      <td>None</td>\n",
              "      <td>Czarny</td>\n",
              "      <td>None</td>\n",
              "      <td>None</td>\n",
              "      <td>Używane</td>\n",
              "      <td>II (2010-)</td>\n",
              "      <td>None</td>\n",
              "      <td>None</td>\n",
              "      <td>None</td>\n",
              "      <td>None</td>\n",
              "      <td>None</td>\n",
              "      <td>None</td>\n",
              "      <td>3</td>\n",
              "    </tr>\n",
              "    <tr>\n",
              "      <th>4</th>\n",
              "      <td>[Osobowe, Peugeot, 308, Peugeot 308 T7 (2008-2...</td>\n",
              "      <td>08:46, 3 marca 2018</td>\n",
              "      <td>PLN</td>\n",
              "      <td>Cena Brutto, Do negocjacji</td>\n",
              "      <td>19500.0</td>\n",
              "      <td>Limanowa, limanowski, Małopolskie</td>\n",
              "      <td>None</td>\n",
              "      <td>Osoba prywatna</td>\n",
              "      <td>False</td>\n",
              "      <td>False</td>\n",
              "      <td>False</td>\n",
              "      <td>False</td>\n",
              "      <td>False</td>\n",
              "      <td>True</td>\n",
              "      <td>True</td>\n",
              "      <td>True</td>\n",
              "      <td>True</td>\n",
              "      <td>True</td>\n",
              "      <td>True</td>\n",
              "      <td>True</td>\n",
              "      <td>False</td>\n",
              "      <td>False</td>\n",
              "      <td>True</td>\n",
              "      <td>True</td>\n",
              "      <td>False</td>\n",
              "      <td>False</td>\n",
              "      <td>True</td>\n",
              "      <td>True</td>\n",
              "      <td>False</td>\n",
              "      <td>False</td>\n",
              "      <td>False</td>\n",
              "      <td>False</td>\n",
              "      <td>False</td>\n",
              "      <td>False</td>\n",
              "      <td>True</td>\n",
              "      <td>False</td>\n",
              "      <td>True</td>\n",
              "      <td>False</td>\n",
              "      <td>False</td>\n",
              "      <td>False</td>\n",
              "      <td>...</td>\n",
              "      <td>None</td>\n",
              "      <td>Tak</td>\n",
              "      <td>Osoby prywatnej</td>\n",
              "      <td>110 KM</td>\n",
              "      <td>None</td>\n",
              "      <td>Polska</td>\n",
              "      <td>None</td>\n",
              "      <td>None</td>\n",
              "      <td>Tak</td>\n",
              "      <td>Diesel</td>\n",
              "      <td>None</td>\n",
              "      <td>None</td>\n",
              "      <td>None</td>\n",
              "      <td>None</td>\n",
              "      <td>None</td>\n",
              "      <td>None</td>\n",
              "      <td>None</td>\n",
              "      <td>308</td>\n",
              "      <td>1 560 cm3</td>\n",
              "      <td>None</td>\n",
              "      <td>None</td>\n",
              "      <td>None</td>\n",
              "      <td>None</td>\n",
              "      <td>None</td>\n",
              "      <td>None</td>\n",
              "      <td>None</td>\n",
              "      <td>None</td>\n",
              "      <td>None</td>\n",
              "      <td>Srebrny</td>\n",
              "      <td>None</td>\n",
              "      <td>None</td>\n",
              "      <td>Używane</td>\n",
              "      <td>T7 (2008-2013)</td>\n",
              "      <td>None</td>\n",
              "      <td>None</td>\n",
              "      <td>None</td>\n",
              "      <td>Tak</td>\n",
              "      <td>None</td>\n",
              "      <td>None</td>\n",
              "      <td>4</td>\n",
              "    </tr>\n",
              "    <tr>\n",
              "      <th>5</th>\n",
              "      <td>[Osobowe, Volkswagen, Golf, Volkswagen Golf VI...</td>\n",
              "      <td>20:00, 3 marca 2018</td>\n",
              "      <td>PLN</td>\n",
              "      <td>Cena Brutto, Faktura VAT</td>\n",
              "      <td>164900.0</td>\n",
              "      <td>Niciarniana 51/53 - 92-320 Łódź, Śródmieście (...</td>\n",
              "      <td>KROTOSKI-CICHY Niciarniana 51/53 oraz Dąbrowsk...</td>\n",
              "      <td>Dealer</td>\n",
              "      <td>True</td>\n",
              "      <td>True</td>\n",
              "      <td>True</td>\n",
              "      <td>False</td>\n",
              "      <td>True</td>\n",
              "      <td>True</td>\n",
              "      <td>True</td>\n",
              "      <td>True</td>\n",
              "      <td>True</td>\n",
              "      <td>True</td>\n",
              "      <td>True</td>\n",
              "      <td>True</td>\n",
              "      <td>False</td>\n",
              "      <td>True</td>\n",
              "      <td>True</td>\n",
              "      <td>True</td>\n",
              "      <td>False</td>\n",
              "      <td>False</td>\n",
              "      <td>True</td>\n",
              "      <td>False</td>\n",
              "      <td>False</td>\n",
              "      <td>False</td>\n",
              "      <td>False</td>\n",
              "      <td>False</td>\n",
              "      <td>False</td>\n",
              "      <td>True</td>\n",
              "      <td>True</td>\n",
              "      <td>True</td>\n",
              "      <td>True</td>\n",
              "      <td>True</td>\n",
              "      <td>True</td>\n",
              "      <td>False</td>\n",
              "      <td>...</td>\n",
              "      <td>None</td>\n",
              "      <td>Tak</td>\n",
              "      <td>Firmy</td>\n",
              "      <td>310 KM</td>\n",
              "      <td>None</td>\n",
              "      <td>Polska</td>\n",
              "      <td>None</td>\n",
              "      <td>None</td>\n",
              "      <td>Tak</td>\n",
              "      <td>Benzyna</td>\n",
              "      <td>None</td>\n",
              "      <td>None</td>\n",
              "      <td>None</td>\n",
              "      <td>None</td>\n",
              "      <td>None</td>\n",
              "      <td>None</td>\n",
              "      <td>None</td>\n",
              "      <td>Golf</td>\n",
              "      <td>1 984 cm3</td>\n",
              "      <td>None</td>\n",
              "      <td>None</td>\n",
              "      <td>None</td>\n",
              "      <td>None</td>\n",
              "      <td>None</td>\n",
              "      <td>None</td>\n",
              "      <td>None</td>\n",
              "      <td>None</td>\n",
              "      <td>None</td>\n",
              "      <td>Niebieski</td>\n",
              "      <td>None</td>\n",
              "      <td>None</td>\n",
              "      <td>Używane</td>\n",
              "      <td>VII (2012-)</td>\n",
              "      <td>None</td>\n",
              "      <td>None</td>\n",
              "      <td>None</td>\n",
              "      <td>Tak</td>\n",
              "      <td>None</td>\n",
              "      <td>None</td>\n",
              "      <td>5</td>\n",
              "    </tr>\n",
              "  </tbody>\n",
              "</table>\n",
              "<p>5 rows × 155 columns</p>\n",
              "</div>"
            ],
            "text/plain": [
              "                                          breadcrumb  ... car_id\n",
              "0    [Osobowe, Dacia, Logan, Dacia Logan II (2012-)]  ...      0\n",
              "2  [Osobowe, Peugeot, 3008, Peugeot 3008 I (2009-...  ...      2\n",
              "3  [Osobowe, Porsche, Cayenne, Porsche Cayenne II...  ...      3\n",
              "4  [Osobowe, Peugeot, 308, Peugeot 308 T7 (2008-2...  ...      4\n",
              "5  [Osobowe, Volkswagen, Golf, Volkswagen Golf VI...  ...      5\n",
              "\n",
              "[5 rows x 155 columns]"
            ]
          },
          "metadata": {
            "tags": []
          },
          "execution_count": 20
        }
      ]
    },
    {
      "cell_type": "code",
      "metadata": {
        "id": "7He7u4X5WpmA",
        "colab_type": "code",
        "colab": {
          "base_uri": "https://localhost:8080/",
          "height": 1000
        },
        "outputId": "a0cf1dff-714b-48d4-ac6e-8337ed95a316"
      },
      "source": [
        "for feat in df.columns:\n",
        "  print (feat)"
      ],
      "execution_count": 22,
      "outputs": [
        {
          "output_type": "stream",
          "text": [
            "breadcrumb\n",
            "created_at\n",
            "price_currency\n",
            "price_details\n",
            "price_value\n",
            "seller_address\n",
            "seller_name\n",
            "seller_type\n",
            "feature_czujniki-parkowania-przednie\n",
            "feature_poduszka-powietrzna-chroniąca-kolana\n",
            "feature_kurtyny-powietrzne\n",
            "feature_klimatyzacja-dwustrefowa\n",
            "feature_światła-led\n",
            "feature_czujnik-zmierzchu\n",
            "feature_elektrycznie-ustawiane-lusterka\n",
            "feature_asr-(kontrola-trakcji)\n",
            "feature_poduszka-powietrzna-kierowcy\n",
            "feature_cd\n",
            "feature_elektryczne-szyby-przednie\n",
            "feature_poduszka-powietrzna-pasażera\n",
            "feature_system-start-stop\n",
            "feature_światła-do-jazdy-dziennej\n",
            "feature_komputer-pokładowy\n",
            "feature_elektryczne-szyby-tylne\n",
            "feature_klimatyzacja-manualna\n",
            "feature_tapicerka-welurowa\n",
            "feature_czujnik-deszczu\n",
            "feature_światła-przeciwmgielne\n",
            "feature_ogrzewanie-postojowe\n",
            "feature_radio-niefabryczne\n",
            "feature_regulowane-zawieszenie\n",
            "feature_ogranicznik-prędkości\n",
            "feature_zmieniarka-cd\n",
            "feature_szyberdach\n",
            "feature_isofix\n",
            "feature_asystent-pasa-ruchu\n",
            "feature_alufelgi\n",
            "feature_bluetooth\n",
            "feature_nawigacja-gps\n",
            "feature_asystent-parkowania\n",
            "feature_wspomaganie-kierownicy\n",
            "feature_podgrzewana-przednia-szyba\n",
            "feature_przyciemniane-szyby\n",
            "feature_elektrycznie-ustawiane-fotele\n",
            "feature_klimatyzacja-czterostrefowa\n",
            "feature_tuner-tv\n",
            "feature_poduszki-boczne-przednie\n",
            "feature_tempomat-aktywny\n",
            "feature_klimatyzacja-automatyczna\n",
            "feature_poduszki-boczne-tylne\n",
            "feature_radio-fabryczne\n",
            "feature_odtwarzacz-dvd\n",
            "feature_czujniki-parkowania-tylne\n",
            "feature_łopatki-zmiany-biegów\n",
            "feature_centralny-zamek\n",
            "feature_dach-panoramiczny\n",
            "feature_kamera-cofania\n",
            "feature_immobilizer\n",
            "feature_czujnik-martwego-pola\n",
            "feature_gniazdo-sd\n",
            "feature_podgrzewane-lusterka-boczne\n",
            "feature_podgrzewane-przednie-siedzenia\n",
            "feature_hak\n",
            "feature_abs\n",
            "feature_wielofunkcyjna-kierownica\n",
            "feature_światła-xenonowe\n",
            "feature_gniazdo-usb\n",
            "feature_tapicerka-skórzana\n",
            "feature_gniazdo-aux\n",
            "feature_esp-(stabilizacja-toru-jazdy)\n",
            "feature_alarm\n",
            "feature_podgrzewane-tylne-siedzenia\n",
            "feature_mp3\n",
            "feature_tempomat\n",
            "feature_hud-(wyświetlacz-przezierny)\n",
            "feature_elektrochromatyczne-lusterko-wsteczne\n",
            "feature_relingi-dachowe\n",
            "feature_elektrochromatyczne-lusterka-boczne\n",
            "param_liczba-miejsc\n",
            "param_uszkodzony\n",
            "param_marka-pojazdu\n",
            "param_model\n",
            "param_engine-code\n",
            "param_liczba-drzwi\n",
            "param_first-registration\n",
            "param_country-of-origin\n",
            "param_pierwsza-rejestracja\n",
            "param_gearbox\n",
            "param_przebieg\n",
            "param_faktura-vat\n",
            "param_rok-produkcji\n",
            "param_vin\n",
            "param_perłowy\n",
            "param_homologacja-ciężarowa\n",
            "param_service-record\n",
            "param_metallic\n",
            "param_leasing-concession\n",
            "param_color\n",
            "param_financing-option\n",
            "param_original-owner\n",
            "param_vat-marża\n",
            "param_kategoria\n",
            "param_co2-emissions\n",
            "param_leasing\n",
            "param_mileage\n",
            "param_zarejestrowany-jako-zabytek\n",
            "param_napęd\n",
            "param_wartość-wykupu\n",
            "param_typ\n",
            "param_metalik\n",
            "param_pierwszy-właściciel\n",
            "param_skrzynia-biegów\n",
            "param_vat-discount\n",
            "param_no-accident\n",
            "param_liczba-pozostałych-rat\n",
            "param_particle-filter\n",
            "param_zarejestrowany-w-polsce\n",
            "param_oferta-od\n",
            "param_moc\n",
            "param_make\n",
            "param_kraj-pochodzenia\n",
            "param_engine-power\n",
            "param_year\n",
            "param_serwisowany-w-aso\n",
            "param_rodzaj-paliwa\n",
            "param_możliwość-finansowania\n",
            "param_registered-in-poland\n",
            "param_transmission\n",
            "param_miesięczna-rata\n",
            "param_kod-silnika\n",
            "param_version\n",
            "param_opłata-początkowa\n",
            "param_model-pojazdu\n",
            "param_pojemność-skokowa\n",
            "param_kierownica-po-prawej-(anglik)\n",
            "param_fuel-type\n",
            "param_vat-free\n",
            "param_acrylic\n",
            "param_damaged\n",
            "param_door-count\n",
            "param_tuning\n",
            "param_filtr-cząstek-stałych\n",
            "param_nr-of-seats\n",
            "param_kolor\n",
            "param_engine-capacity\n",
            "param_pearl\n",
            "param_stan\n",
            "param_wersja\n",
            "param_emisja-co2\n",
            "param_body-type\n",
            "param_matowy\n",
            "param_bezwypadkowy\n",
            "param_akryl-(niemetalizowany)\n",
            "param_monthly-payment-value\n",
            "car_id\n"
          ],
          "name": "stdout"
        }
      ]
    },
    {
      "cell_type": "code",
      "metadata": {
        "id": "6dQh4qO_W09I",
        "colab_type": "code",
        "colab": {
          "base_uri": "https://localhost:8080/",
          "height": 34
        },
        "outputId": "1c499cdf-e735-4fe0-9a0a-18236ad375df"
      },
      "source": [
        "df['param_color'].factorize()[0]"
      ],
      "execution_count": 23,
      "outputs": [
        {
          "output_type": "execute_result",
          "data": {
            "text/plain": [
              "array([-1, -1, -1, ..., -1, -1, -1])"
            ]
          },
          "metadata": {
            "tags": []
          },
          "execution_count": 23
        }
      ]
    },
    {
      "cell_type": "code",
      "metadata": {
        "id": "wF3JCrxAXWQ1",
        "colab_type": "code",
        "colab": {}
      },
      "source": [
        "SUFFIX_CAT = '__cat'\n",
        "\n",
        "for feat in df.columns:\n",
        "  if isinstance(df[feat][0], list): continue\n",
        "\n",
        "  factorized_values = df[feat].factorize()[0]\n",
        "  if SUFFIX_CAT in feat:\n",
        "    df[feat] = factorized_values\n",
        "  else:\n",
        "    df[feat + SUFFIX_CAT] = factorized_values"
      ],
      "execution_count": 0,
      "outputs": []
    },
    {
      "cell_type": "code",
      "metadata": {
        "id": "Wc8PDaaRYbxf",
        "colab_type": "code",
        "colab": {
          "base_uri": "https://localhost:8080/",
          "height": 34
        },
        "outputId": "4130c9e2-eecc-48d1-e7d0-5e33d1e45614"
      },
      "source": [
        "cat_feats = [x for x in df.columns if SUFFIX_CAT in x]\n",
        "cat_feats = [x for x in cat_feats if 'price' not in x]\n",
        "len(cat_feats)"
      ],
      "execution_count": 27,
      "outputs": [
        {
          "output_type": "execute_result",
          "data": {
            "text/plain": [
              "151"
            ]
          },
          "metadata": {
            "tags": []
          },
          "execution_count": 27
        }
      ]
    },
    {
      "cell_type": "code",
      "metadata": {
        "id": "su1i-1fUY3kh",
        "colab_type": "code",
        "colab": {
          "base_uri": "https://localhost:8080/",
          "height": 34
        },
        "outputId": "1c51adc2-fe6a-47b7-bdb2-a788c8bf5d9e"
      },
      "source": [
        "x = df[cat_feats].values\n",
        "y = df['price_value'].values\n",
        "\n",
        "model = DecisionTreeRegressor(max_depth=5)\n",
        "scores = cross_val_score(model, x, y, cv=3, scoring='neg_mean_absolute_error')\n",
        "np.mean(scores)"
      ],
      "execution_count": 28,
      "outputs": [
        {
          "output_type": "execute_result",
          "data": {
            "text/plain": [
              "-19566.588937368328"
            ]
          },
          "metadata": {
            "tags": []
          },
          "execution_count": 28
        }
      ]
    },
    {
      "cell_type": "code",
      "metadata": {
        "id": "WwN-P5hNZayJ",
        "colab_type": "code",
        "colab": {
          "base_uri": "https://localhost:8080/",
          "height": 391
        },
        "outputId": "b76e7eea-cd89-46a9-aaeb-64a9d0430bcc"
      },
      "source": [
        "m = DecisionTreeRegressor(max_depth=5)\n",
        "m.fit(x, y)\n",
        "\n",
        "imp = PermutationImportance(m, random_state=0).fit(x,y)\n",
        "eli5.show_weights(imp, feature_names = cat_feats)"
      ],
      "execution_count": 30,
      "outputs": [
        {
          "output_type": "execute_result",
          "data": {
            "text/html": [
              "\n",
              "    <style>\n",
              "    table.eli5-weights tr:hover {\n",
              "        filter: brightness(85%);\n",
              "    }\n",
              "</style>\n",
              "\n",
              "\n",
              "\n",
              "    \n",
              "\n",
              "    \n",
              "\n",
              "    \n",
              "\n",
              "    \n",
              "\n",
              "    \n",
              "\n",
              "    \n",
              "\n",
              "\n",
              "    \n",
              "\n",
              "    \n",
              "\n",
              "    \n",
              "\n",
              "    \n",
              "\n",
              "    \n",
              "\n",
              "    \n",
              "\n",
              "\n",
              "    \n",
              "\n",
              "    \n",
              "\n",
              "    \n",
              "\n",
              "    \n",
              "\n",
              "    \n",
              "        <table class=\"eli5-weights eli5-feature-importances\" style=\"border-collapse: collapse; border: none; margin-top: 0em; table-layout: auto;\">\n",
              "    <thead>\n",
              "    <tr style=\"border: none;\">\n",
              "        <th style=\"padding: 0 1em 0 0.5em; text-align: right; border: none;\">Weight</th>\n",
              "        <th style=\"padding: 0 0.5em 0 0.5em; text-align: left; border: none;\">Feature</th>\n",
              "    </tr>\n",
              "    </thead>\n",
              "    <tbody>\n",
              "    \n",
              "        <tr style=\"background-color: hsl(120, 100.00%, 80.00%); border: none;\">\n",
              "            <td style=\"padding: 0 1em 0 0.5em; text-align: right; border: none;\">\n",
              "                0.2533\n",
              "                \n",
              "                    &plusmn; 0.0040\n",
              "                \n",
              "            </td>\n",
              "            <td style=\"padding: 0 0.5em 0 0.5em; text-align: left; border: none;\">\n",
              "                param_napęd__cat\n",
              "            </td>\n",
              "        </tr>\n",
              "    \n",
              "        <tr style=\"background-color: hsl(120, 100.00%, 83.00%); border: none;\">\n",
              "            <td style=\"padding: 0 1em 0 0.5em; text-align: right; border: none;\">\n",
              "                0.2008\n",
              "                \n",
              "                    &plusmn; 0.0047\n",
              "                \n",
              "            </td>\n",
              "            <td style=\"padding: 0 0.5em 0 0.5em; text-align: left; border: none;\">\n",
              "                param_faktura-vat__cat\n",
              "            </td>\n",
              "        </tr>\n",
              "    \n",
              "        <tr style=\"background-color: hsl(120, 100.00%, 83.39%); border: none;\">\n",
              "            <td style=\"padding: 0 1em 0 0.5em; text-align: right; border: none;\">\n",
              "                0.1943\n",
              "                \n",
              "                    &plusmn; 0.0088\n",
              "                \n",
              "            </td>\n",
              "            <td style=\"padding: 0 0.5em 0 0.5em; text-align: left; border: none;\">\n",
              "                param_stan__cat\n",
              "            </td>\n",
              "        </tr>\n",
              "    \n",
              "        <tr style=\"background-color: hsl(120, 100.00%, 86.64%); border: none;\">\n",
              "            <td style=\"padding: 0 1em 0 0.5em; text-align: right; border: none;\">\n",
              "                0.1423\n",
              "                \n",
              "                    &plusmn; 0.0086\n",
              "                \n",
              "            </td>\n",
              "            <td style=\"padding: 0 0.5em 0 0.5em; text-align: left; border: none;\">\n",
              "                param_rok-produkcji__cat\n",
              "            </td>\n",
              "        </tr>\n",
              "    \n",
              "        <tr style=\"background-color: hsl(120, 100.00%, 92.46%); border: none;\">\n",
              "            <td style=\"padding: 0 1em 0 0.5em; text-align: right; border: none;\">\n",
              "                0.0629\n",
              "                \n",
              "                    &plusmn; 0.0047\n",
              "                \n",
              "            </td>\n",
              "            <td style=\"padding: 0 0.5em 0 0.5em; text-align: left; border: none;\">\n",
              "                param_moc__cat\n",
              "            </td>\n",
              "        </tr>\n",
              "    \n",
              "        <tr style=\"background-color: hsl(120, 100.00%, 94.27%); border: none;\">\n",
              "            <td style=\"padding: 0 1em 0 0.5em; text-align: right; border: none;\">\n",
              "                0.0424\n",
              "                \n",
              "                    &plusmn; 0.0014\n",
              "                \n",
              "            </td>\n",
              "            <td style=\"padding: 0 0.5em 0 0.5em; text-align: left; border: none;\">\n",
              "                feature_kamera-cofania__cat\n",
              "            </td>\n",
              "        </tr>\n",
              "    \n",
              "        <tr style=\"background-color: hsl(120, 100.00%, 94.39%); border: none;\">\n",
              "            <td style=\"padding: 0 1em 0 0.5em; text-align: right; border: none;\">\n",
              "                0.0412\n",
              "                \n",
              "                    &plusmn; 0.0008\n",
              "                \n",
              "            </td>\n",
              "            <td style=\"padding: 0 0.5em 0 0.5em; text-align: left; border: none;\">\n",
              "                param_skrzynia-biegów__cat\n",
              "            </td>\n",
              "        </tr>\n",
              "    \n",
              "        <tr style=\"background-color: hsl(120, 100.00%, 95.66%); border: none;\">\n",
              "            <td style=\"padding: 0 1em 0 0.5em; text-align: right; border: none;\">\n",
              "                0.0286\n",
              "                \n",
              "                    &plusmn; 0.0037\n",
              "                \n",
              "            </td>\n",
              "            <td style=\"padding: 0 0.5em 0 0.5em; text-align: left; border: none;\">\n",
              "                param_marka-pojazdu__cat\n",
              "            </td>\n",
              "        </tr>\n",
              "    \n",
              "        <tr style=\"background-color: hsl(120, 100.00%, 96.72%); border: none;\">\n",
              "            <td style=\"padding: 0 1em 0 0.5em; text-align: right; border: none;\">\n",
              "                0.0191\n",
              "                \n",
              "                    &plusmn; 0.0022\n",
              "                \n",
              "            </td>\n",
              "            <td style=\"padding: 0 0.5em 0 0.5em; text-align: left; border: none;\">\n",
              "                param_pojemność-skokowa__cat\n",
              "            </td>\n",
              "        </tr>\n",
              "    \n",
              "        <tr style=\"background-color: hsl(120, 100.00%, 97.07%); border: none;\">\n",
              "            <td style=\"padding: 0 1em 0 0.5em; text-align: right; border: none;\">\n",
              "                0.0163\n",
              "                \n",
              "                    &plusmn; 0.0005\n",
              "                \n",
              "            </td>\n",
              "            <td style=\"padding: 0 0.5em 0 0.5em; text-align: left; border: none;\">\n",
              "                feature_bluetooth__cat\n",
              "            </td>\n",
              "        </tr>\n",
              "    \n",
              "        <tr style=\"background-color: hsl(120, 100.00%, 97.68%); border: none;\">\n",
              "            <td style=\"padding: 0 1em 0 0.5em; text-align: right; border: none;\">\n",
              "                0.0117\n",
              "                \n",
              "                    &plusmn; 0.0007\n",
              "                \n",
              "            </td>\n",
              "            <td style=\"padding: 0 0.5em 0 0.5em; text-align: left; border: none;\">\n",
              "                feature_łopatki-zmiany-biegów__cat\n",
              "            </td>\n",
              "        </tr>\n",
              "    \n",
              "        <tr style=\"background-color: hsl(120, 100.00%, 97.76%); border: none;\">\n",
              "            <td style=\"padding: 0 1em 0 0.5em; text-align: right; border: none;\">\n",
              "                0.0111\n",
              "                \n",
              "                    &plusmn; 0.0004\n",
              "                \n",
              "            </td>\n",
              "            <td style=\"padding: 0 0.5em 0 0.5em; text-align: left; border: none;\">\n",
              "                feature_światła-led__cat\n",
              "            </td>\n",
              "        </tr>\n",
              "    \n",
              "        <tr style=\"background-color: hsl(120, 100.00%, 99.18%); border: none;\">\n",
              "            <td style=\"padding: 0 1em 0 0.5em; text-align: right; border: none;\">\n",
              "                0.0026\n",
              "                \n",
              "                    &plusmn; 0.0002\n",
              "                \n",
              "            </td>\n",
              "            <td style=\"padding: 0 0.5em 0 0.5em; text-align: left; border: none;\">\n",
              "                feature_klimatyzacja-manualna__cat\n",
              "            </td>\n",
              "        </tr>\n",
              "    \n",
              "        <tr style=\"background-color: hsl(120, 100.00%, 99.27%); border: none;\">\n",
              "            <td style=\"padding: 0 1em 0 0.5em; text-align: right; border: none;\">\n",
              "                0.0022\n",
              "                \n",
              "                    &plusmn; 0.0002\n",
              "                \n",
              "            </td>\n",
              "            <td style=\"padding: 0 0.5em 0 0.5em; text-align: left; border: none;\">\n",
              "                param_kod-silnika__cat\n",
              "            </td>\n",
              "        </tr>\n",
              "    \n",
              "        <tr style=\"background-color: hsl(0, 100.00%, 100.00%); border: none;\">\n",
              "            <td style=\"padding: 0 1em 0 0.5em; text-align: right; border: none;\">\n",
              "                0\n",
              "                \n",
              "                    &plusmn; 0.0000\n",
              "                \n",
              "            </td>\n",
              "            <td style=\"padding: 0 0.5em 0 0.5em; text-align: left; border: none;\">\n",
              "                feature_gniazdo-aux__cat\n",
              "            </td>\n",
              "        </tr>\n",
              "    \n",
              "        <tr style=\"background-color: hsl(0, 100.00%, 100.00%); border: none;\">\n",
              "            <td style=\"padding: 0 1em 0 0.5em; text-align: right; border: none;\">\n",
              "                0\n",
              "                \n",
              "                    &plusmn; 0.0000\n",
              "                \n",
              "            </td>\n",
              "            <td style=\"padding: 0 0.5em 0 0.5em; text-align: left; border: none;\">\n",
              "                feature_klimatyzacja-automatyczna__cat\n",
              "            </td>\n",
              "        </tr>\n",
              "    \n",
              "        <tr style=\"background-color: hsl(0, 100.00%, 100.00%); border: none;\">\n",
              "            <td style=\"padding: 0 1em 0 0.5em; text-align: right; border: none;\">\n",
              "                0\n",
              "                \n",
              "                    &plusmn; 0.0000\n",
              "                \n",
              "            </td>\n",
              "            <td style=\"padding: 0 0.5em 0 0.5em; text-align: left; border: none;\">\n",
              "                feature_radio-fabryczne__cat\n",
              "            </td>\n",
              "        </tr>\n",
              "    \n",
              "        <tr style=\"background-color: hsl(0, 100.00%, 100.00%); border: none;\">\n",
              "            <td style=\"padding: 0 1em 0 0.5em; text-align: right; border: none;\">\n",
              "                0\n",
              "                \n",
              "                    &plusmn; 0.0000\n",
              "                \n",
              "            </td>\n",
              "            <td style=\"padding: 0 0.5em 0 0.5em; text-align: left; border: none;\">\n",
              "                feature_czujniki-parkowania-tylne__cat\n",
              "            </td>\n",
              "        </tr>\n",
              "    \n",
              "        <tr style=\"background-color: hsl(0, 100.00%, 100.00%); border: none;\">\n",
              "            <td style=\"padding: 0 1em 0 0.5em; text-align: right; border: none;\">\n",
              "                0\n",
              "                \n",
              "                    &plusmn; 0.0000\n",
              "                \n",
              "            </td>\n",
              "            <td style=\"padding: 0 0.5em 0 0.5em; text-align: left; border: none;\">\n",
              "                feature_poduszki-boczne-tylne__cat\n",
              "            </td>\n",
              "        </tr>\n",
              "    \n",
              "        <tr style=\"background-color: hsl(0, 100.00%, 100.00%); border: none;\">\n",
              "            <td style=\"padding: 0 1em 0 0.5em; text-align: right; border: none;\">\n",
              "                0\n",
              "                \n",
              "                    &plusmn; 0.0000\n",
              "                \n",
              "            </td>\n",
              "            <td style=\"padding: 0 0.5em 0 0.5em; text-align: left; border: none;\">\n",
              "                feature_odtwarzacz-dvd__cat\n",
              "            </td>\n",
              "        </tr>\n",
              "    \n",
              "    \n",
              "        \n",
              "            <tr style=\"background-color: hsl(0, 100.00%, 100.00%); border: none;\">\n",
              "                <td colspan=\"2\" style=\"padding: 0 0.5em 0 0.5em; text-align: center; border: none; white-space: nowrap;\">\n",
              "                    <i>&hellip; 131 more &hellip;</i>\n",
              "                </td>\n",
              "            </tr>\n",
              "        \n",
              "    \n",
              "    </tbody>\n",
              "</table>\n",
              "    \n",
              "\n",
              "    \n",
              "\n",
              "\n",
              "    \n",
              "\n",
              "    \n",
              "\n",
              "    \n",
              "\n",
              "    \n",
              "\n",
              "    \n",
              "\n",
              "    \n",
              "\n",
              "\n",
              "\n"
            ],
            "text/plain": [
              "<IPython.core.display.HTML object>"
            ]
          },
          "metadata": {
            "tags": []
          },
          "execution_count": 30
        }
      ]
    },
    {
      "cell_type": "code",
      "metadata": {
        "id": "CcxSjT_Ya6EJ",
        "colab_type": "code",
        "colab": {
          "base_uri": "https://localhost:8080/",
          "height": 351
        },
        "outputId": "0cca6313-2451-4604-8ea3-f2e9a466565a"
      },
      "source": [
        "def group_and_barplot(feat_groupby, feat_agg='price_value', agg_funcs=[np.mean, np.median, np.size], feat_sort='mean', top=50, subplots=True):\n",
        "  return (\n",
        "      df\n",
        "        .groupby(feat_groupby)[feat_agg]\n",
        "        .agg(agg_funcs)\n",
        "        .sort_values(by=feat_sort, ascending=False)\n",
        "        .head(top) \n",
        "      ).plot(kind='bar', figsize=(15,5), subplots=subplots) \n",
        "group_and_barplot('param_napęd__cat', feat_sort='size');"
      ],
      "execution_count": 33,
      "outputs": [
        {
          "output_type": "display_data",
          "data": {
            "image/png": "[encoded data removed]",
            "text/plain": [
              "<Figure size 1080x360 with 3 Axes>"
            ]
          },
          "metadata": {
            "tags": []
          }
        }
      ]
    }
  ]
}